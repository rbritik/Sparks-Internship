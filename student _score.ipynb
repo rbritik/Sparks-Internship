{
 "cells": [
  {
   "cell_type": "markdown",
   "metadata": {},
   "source": [
    "#                        Ritik Bhardwaj"
   ]
  },
  {
   "cell_type": "markdown",
   "metadata": {},
   "source": [
    "# Task 1: Prediction using Supervised Learning"
   ]
  },
  {
   "cell_type": "markdown",
   "metadata": {},
   "source": [
    "# The Sparks Foundation"
   ]
  },
  {
   "cell_type": "markdown",
   "metadata": {},
   "source": [
    "## Loading necessary libraries"
   ]
  },
  {
   "cell_type": "code",
   "execution_count": 40,
   "metadata": {},
   "outputs": [],
   "source": [
    "import pandas as pd\n",
    "import numpy as np\n",
    "import matplotlib.pyplot as plt\n",
    "import seaborn as sns\n",
    "import tensorflow as tf\n",
    "import tensorflow.keras"
   ]
  },
  {
   "cell_type": "markdown",
   "metadata": {},
   "source": [
    "## Loading the data and making Dataframe"
   ]
  },
  {
   "cell_type": "code",
   "execution_count": 41,
   "metadata": {},
   "outputs": [],
   "source": [
    "data  = {'Hours':[2.5, 5.1, 3.2, 8.5, 3.5, 1.5, 9.2, 5.5, 8.3, 2.7, 7.7, 5.9, 4.5, 3.3, 1.1, 8.9, 2.5, 1.9, 6.1, 7.4, 2.7, 4.8,\\\n",
    "                 3.8, 6.9, 7.8], 'Scores': [21,47,27,75,30,20,88,60,81,25,85,62,41,42,17,95,30,24,67,69,30,54,35,76,86]}"
   ]
  },
  {
   "cell_type": "code",
   "execution_count": 42,
   "metadata": {},
   "outputs": [
    {
     "data": {
      "text/html": [
       "<div>\n",
       "<style scoped>\n",
       "    .dataframe tbody tr th:only-of-type {\n",
       "        vertical-align: middle;\n",
       "    }\n",
       "\n",
       "    .dataframe tbody tr th {\n",
       "        vertical-align: top;\n",
       "    }\n",
       "\n",
       "    .dataframe thead th {\n",
       "        text-align: right;\n",
       "    }\n",
       "</style>\n",
       "<table border=\"1\" class=\"dataframe\">\n",
       "  <thead>\n",
       "    <tr style=\"text-align: right;\">\n",
       "      <th></th>\n",
       "      <th>Hours</th>\n",
       "      <th>Scores</th>\n",
       "    </tr>\n",
       "  </thead>\n",
       "  <tbody>\n",
       "    <tr>\n",
       "      <th>0</th>\n",
       "      <td>2.5</td>\n",
       "      <td>21</td>\n",
       "    </tr>\n",
       "    <tr>\n",
       "      <th>1</th>\n",
       "      <td>5.1</td>\n",
       "      <td>47</td>\n",
       "    </tr>\n",
       "    <tr>\n",
       "      <th>2</th>\n",
       "      <td>3.2</td>\n",
       "      <td>27</td>\n",
       "    </tr>\n",
       "    <tr>\n",
       "      <th>3</th>\n",
       "      <td>8.5</td>\n",
       "      <td>75</td>\n",
       "    </tr>\n",
       "    <tr>\n",
       "      <th>4</th>\n",
       "      <td>3.5</td>\n",
       "      <td>30</td>\n",
       "    </tr>\n",
       "    <tr>\n",
       "      <th>5</th>\n",
       "      <td>1.5</td>\n",
       "      <td>20</td>\n",
       "    </tr>\n",
       "    <tr>\n",
       "      <th>6</th>\n",
       "      <td>9.2</td>\n",
       "      <td>88</td>\n",
       "    </tr>\n",
       "    <tr>\n",
       "      <th>7</th>\n",
       "      <td>5.5</td>\n",
       "      <td>60</td>\n",
       "    </tr>\n",
       "    <tr>\n",
       "      <th>8</th>\n",
       "      <td>8.3</td>\n",
       "      <td>81</td>\n",
       "    </tr>\n",
       "    <tr>\n",
       "      <th>9</th>\n",
       "      <td>2.7</td>\n",
       "      <td>25</td>\n",
       "    </tr>\n",
       "    <tr>\n",
       "      <th>10</th>\n",
       "      <td>7.7</td>\n",
       "      <td>85</td>\n",
       "    </tr>\n",
       "    <tr>\n",
       "      <th>11</th>\n",
       "      <td>5.9</td>\n",
       "      <td>62</td>\n",
       "    </tr>\n",
       "    <tr>\n",
       "      <th>12</th>\n",
       "      <td>4.5</td>\n",
       "      <td>41</td>\n",
       "    </tr>\n",
       "    <tr>\n",
       "      <th>13</th>\n",
       "      <td>3.3</td>\n",
       "      <td>42</td>\n",
       "    </tr>\n",
       "    <tr>\n",
       "      <th>14</th>\n",
       "      <td>1.1</td>\n",
       "      <td>17</td>\n",
       "    </tr>\n",
       "    <tr>\n",
       "      <th>15</th>\n",
       "      <td>8.9</td>\n",
       "      <td>95</td>\n",
       "    </tr>\n",
       "    <tr>\n",
       "      <th>16</th>\n",
       "      <td>2.5</td>\n",
       "      <td>30</td>\n",
       "    </tr>\n",
       "    <tr>\n",
       "      <th>17</th>\n",
       "      <td>1.9</td>\n",
       "      <td>24</td>\n",
       "    </tr>\n",
       "    <tr>\n",
       "      <th>18</th>\n",
       "      <td>6.1</td>\n",
       "      <td>67</td>\n",
       "    </tr>\n",
       "    <tr>\n",
       "      <th>19</th>\n",
       "      <td>7.4</td>\n",
       "      <td>69</td>\n",
       "    </tr>\n",
       "    <tr>\n",
       "      <th>20</th>\n",
       "      <td>2.7</td>\n",
       "      <td>30</td>\n",
       "    </tr>\n",
       "    <tr>\n",
       "      <th>21</th>\n",
       "      <td>4.8</td>\n",
       "      <td>54</td>\n",
       "    </tr>\n",
       "    <tr>\n",
       "      <th>22</th>\n",
       "      <td>3.8</td>\n",
       "      <td>35</td>\n",
       "    </tr>\n",
       "    <tr>\n",
       "      <th>23</th>\n",
       "      <td>6.9</td>\n",
       "      <td>76</td>\n",
       "    </tr>\n",
       "    <tr>\n",
       "      <th>24</th>\n",
       "      <td>7.8</td>\n",
       "      <td>86</td>\n",
       "    </tr>\n",
       "  </tbody>\n",
       "</table>\n",
       "</div>"
      ],
      "text/plain": [
       "    Hours  Scores\n",
       "0     2.5      21\n",
       "1     5.1      47\n",
       "2     3.2      27\n",
       "3     8.5      75\n",
       "4     3.5      30\n",
       "5     1.5      20\n",
       "6     9.2      88\n",
       "7     5.5      60\n",
       "8     8.3      81\n",
       "9     2.7      25\n",
       "10    7.7      85\n",
       "11    5.9      62\n",
       "12    4.5      41\n",
       "13    3.3      42\n",
       "14    1.1      17\n",
       "15    8.9      95\n",
       "16    2.5      30\n",
       "17    1.9      24\n",
       "18    6.1      67\n",
       "19    7.4      69\n",
       "20    2.7      30\n",
       "21    4.8      54\n",
       "22    3.8      35\n",
       "23    6.9      76\n",
       "24    7.8      86"
      ]
     },
     "execution_count": 42,
     "metadata": {},
     "output_type": "execute_result"
    }
   ],
   "source": [
    "df  = pd.DataFrame(data)\n",
    "df"
   ]
  },
  {
   "cell_type": "markdown",
   "metadata": {},
   "source": [
    "## plotting the data"
   ]
  },
  {
   "cell_type": "code",
   "execution_count": 43,
   "metadata": {},
   "outputs": [
    {
     "data": {
      "image/png": "[encoded data removed]",
      "text/plain": [
       "<Figure size 360x360 with 1 Axes>"
      ]
     },
     "metadata": {
      "needs_background": "light"
     },
     "output_type": "display_data"
    },
    {
     "data": {
      "text/plain": [
       "Text(0.5, 1.0, 'lineplot for hours studied vs scores')"
      ]
     },
     "execution_count": 43,
     "metadata": {},
     "output_type": "execute_result"
    },
    {
     "data": {
      "image/png": "[encoded data removed]",
      "text/plain": [
       "<Figure size 432x288 with 1 Axes>"
      ]
     },
     "metadata": {
      "needs_background": "light"
     },
     "output_type": "display_data"
    }
   ],
   "source": [
    "sns.lmplot(x =\"Hours\", y = \"Scores\", data = df)\n",
    "plt.title(\"lmplot for hours studied vs scores\")\n",
    "plt.show()\n",
    "sns.lineplot(x =\"Hours\", y = \"Scores\", data = df)\n",
    "plt.title(\"lineplot for hours studied vs scores\")"
   ]
  },
  {
   "cell_type": "code",
   "execution_count": 60,
   "metadata": {},
   "outputs": [
    {
     "name": "stdout",
     "output_type": "stream",
     "text": [
      "11    5.9\n",
      "22    3.8\n",
      "8     8.3\n",
      "0     2.5\n",
      "21    4.8\n",
      "23    6.9\n",
      "16    2.5\n",
      "12    4.5\n",
      "1     5.1\n",
      "19    7.4\n",
      "13    3.3\n",
      "10    7.7\n",
      "14    1.1\n",
      "6     9.2\n",
      "3     8.5\n",
      "9     2.7\n",
      "18    6.1\n",
      "2     3.2\n",
      "7     5.5\n",
      "20    2.7\n",
      "Name: Hours, dtype: float64\n"
     ]
    }
   ],
   "source": [
    "from sklearn.model_selection import train_test_split\n",
    "X = df.Hours\n",
    "y = df.Scores\n",
    "X_train, X_test, y_train, y_test = train_test_split(X, y, test_size = 0.2, random_state = 33)\n",
    "print(X_train)"
   ]
  },
  {
   "cell_type": "code",
   "execution_count": 66,
   "metadata": {
    "scrolled": true
   },
   "outputs": [
    {
     "name": "stdout",
     "output_type": "stream",
     "text": [
      "Train on 25 samples\n",
      "Epoch 1/50\n",
      "25/25 [==============================] - 0s 19ms/sample - loss: 2596.4041\n",
      "Epoch 2/50\n",
      "25/25 [==============================] - 0s 162us/sample - loss: 359.9687\n",
      "Epoch 3/50\n",
      "25/25 [==============================] - 0s 159us/sample - loss: 71.7401\n",
      "Epoch 4/50\n",
      "25/25 [==============================] - 0s 160us/sample - loss: 34.5924\n",
      "Epoch 5/50\n",
      "25/25 [==============================] - 0s 115us/sample - loss: 29.8035\n",
      "Epoch 6/50\n",
      "25/25 [==============================] - 0s 119us/sample - loss: 29.1849\n",
      "Epoch 7/50\n",
      "25/25 [==============================] - 0s 198us/sample - loss: 29.1038\n",
      "Epoch 8/50\n",
      "25/25 [==============================] - 0s 121us/sample - loss: 29.0920\n",
      "Epoch 9/50\n",
      "25/25 [==============================] - 0s 117us/sample - loss: 29.0890\n",
      "Epoch 10/50\n",
      "25/25 [==============================] - 0s 120us/sample - loss: 29.0873\n",
      "Epoch 11/50\n",
      "25/25 [==============================] - 0s 120us/sample - loss: 29.0857\n",
      "Epoch 12/50\n",
      "25/25 [==============================] - 0s 121us/sample - loss: 29.0842\n",
      "Epoch 13/50\n",
      "25/25 [==============================] - 0s 121us/sample - loss: 29.0826\n",
      "Epoch 14/50\n",
      "25/25 [==============================] - 0s 161us/sample - loss: 29.0811\n",
      "Epoch 15/50\n",
      "25/25 [==============================] - 0s 118us/sample - loss: 29.0796\n",
      "Epoch 16/50\n",
      "25/25 [==============================] - 0s 199us/sample - loss: 29.0781\n",
      "Epoch 17/50\n",
      "25/25 [==============================] - 0s 200us/sample - loss: 29.0766\n",
      "Epoch 18/50\n",
      "25/25 [==============================] - 0s 106us/sample - loss: 29.0751\n",
      "Epoch 19/50\n",
      "25/25 [==============================] - 0s 120us/sample - loss: 29.0737\n",
      "Epoch 20/50\n",
      "25/25 [==============================] - 0s 239us/sample - loss: 29.0722\n",
      "Epoch 21/50\n",
      "25/25 [==============================] - 0s 106us/sample - loss: 29.0708\n",
      "Epoch 22/50\n",
      "25/25 [==============================] - 0s 121us/sample - loss: 29.0693\n",
      "Epoch 23/50\n",
      "25/25 [==============================] - 0s 116us/sample - loss: 29.0679\n",
      "Epoch 24/50\n",
      "25/25 [==============================] - 0s 120us/sample - loss: 29.0665\n",
      "Epoch 25/50\n",
      "25/25 [==============================] - 0s 159us/sample - loss: 29.0651\n",
      "Epoch 26/50\n",
      "25/25 [==============================] - 0s 125us/sample - loss: 29.0637\n",
      "Epoch 27/50\n",
      "25/25 [==============================] - 0s 160us/sample - loss: 29.0623\n",
      "Epoch 28/50\n",
      "25/25 [==============================] - 0s 167us/sample - loss: 29.0609\n",
      "Epoch 29/50\n",
      "25/25 [==============================] - 0s 121us/sample - loss: 29.0596\n",
      "Epoch 30/50\n",
      "25/25 [==============================] - 0s 118us/sample - loss: 29.0582\n",
      "Epoch 31/50\n",
      "25/25 [==============================] - 0s 120us/sample - loss: 29.0569\n",
      "Epoch 32/50\n",
      "25/25 [==============================] - 0s 120us/sample - loss: 29.0556\n",
      "Epoch 33/50\n",
      "25/25 [==============================] - 0s 160us/sample - loss: 29.0543\n",
      "Epoch 34/50\n",
      "25/25 [==============================] - 0s 122us/sample - loss: 29.0529\n",
      "Epoch 35/50\n",
      "25/25 [==============================] - 0s 158us/sample - loss: 29.0517\n",
      "Epoch 36/50\n",
      "25/25 [==============================] - 0s 142us/sample - loss: 29.0504\n",
      "Epoch 37/50\n",
      "25/25 [==============================] - 0s 121us/sample - loss: 29.0491\n",
      "Epoch 38/50\n",
      "25/25 [==============================] - 0s 122us/sample - loss: 29.0478\n",
      "Epoch 39/50\n",
      "25/25 [==============================] - 0s 120us/sample - loss: 29.0466\n",
      "Epoch 40/50\n",
      "25/25 [==============================] - 0s 241us/sample - loss: 29.0453\n",
      "Epoch 41/50\n",
      "25/25 [==============================] - 0s 158us/sample - loss: 29.0441\n",
      "Epoch 42/50\n",
      "25/25 [==============================] - 0s 120us/sample - loss: 29.0428\n",
      "Epoch 43/50\n",
      "25/25 [==============================] - 0s 202us/sample - loss: 29.0416\n",
      "Epoch 44/50\n",
      "25/25 [==============================] - 0s 160us/sample - loss: 29.0404\n",
      "Epoch 45/50\n",
      "25/25 [==============================] - 0s 133us/sample - loss: 29.0392\n",
      "Epoch 46/50\n",
      "25/25 [==============================] - 0s 144us/sample - loss: 29.0380\n",
      "Epoch 47/50\n",
      "25/25 [==============================] - 0s 120us/sample - loss: 29.0368\n",
      "Epoch 48/50\n",
      "25/25 [==============================] - 0s 80us/sample - loss: 29.0357\n",
      "Epoch 49/50\n",
      "25/25 [==============================] - 0s 158us/sample - loss: 29.0345\n",
      "Epoch 50/50\n",
      "25/25 [==============================] - 0s 120us/sample - loss: 29.0333\n"
     ]
    },
    {
     "data": {
      "text/plain": [
       "[<matplotlib.lines.Line2D at 0x2941f6736d8>]"
      ]
     },
     "execution_count": 66,
     "metadata": {},
     "output_type": "execute_result"
    },
    {
     "data": {
      "image/png": "[encoded data removed]",
      "text/plain": [
       "<Figure size 432x288 with 1 Axes>"
      ]
     },
     "metadata": {
      "needs_background": "light"
     },
     "output_type": "display_data"
    }
   ],
   "source": [
    "model = tf.keras.Sequential([\n",
    "    tf.keras.layers.Flatten(input_shape = [1]),\n",
    "    tf.keras.layers.Dense(units = 1, input_shape = [1])\n",
    "])\n",
    "model.compile(\n",
    "       optimizer = 'sgd',\n",
    "       loss = 'mean_squared_error',\n",
    ")\n",
    "history = model.fit(X, y, epochs = 50, )\n",
    "plt.plot(history.history[\"loss\"])"
   ]
  },
  {
   "cell_type": "code",
   "execution_count": 70,
   "metadata": {},
   "outputs": [
    {
     "name": "stdout",
     "output_type": "stream",
     "text": [
      "5/5 [==============================] - 0s 997us/sample - loss: 28.1470\n",
      "28.146963119506836\n",
      "24    86\n",
      "15    95\n",
      "17    24\n",
      "5     20\n",
      "4     30\n",
      "Name: Scores, dtype: int64 [[78.96117 ]\n",
      " [89.869606]\n",
      " [20.452234]\n",
      " [16.485527]\n",
      " [36.31906 ]]\n"
     ]
    }
   ],
   "source": [
    "print(model.evaluate(X_test,y_test))\n",
    "prediction = model.predict(X_test)\n",
    "print(y_test,prediction)\n"
   ]
  },
  {
   "cell_type": "code",
   "execution_count": 68,
   "metadata": {},
   "outputs": [
    {
     "name": "stdout",
     "output_type": "stream",
     "text": [
      "Score of a student studying 9.25 is [93.]\n"
     ]
    }
   ],
   "source": [
    "prediction = model.predict([9.25])\n",
    "print(\"Score of a student studying 9.25 is\", np.round(prediction[0]))"
   ]
  },
  {
   "cell_type": "code",
   "execution_count": null,
   "metadata": {},
   "outputs": [],
   "source": []
  }
 ],
 "metadata": {
  "kernelspec": {
   "display_name": "Python 3",
   "language": "python",
   "name": "python3"
  },
  "language_info": {
   "codemirror_mode": {
    "name": "ipython",
    "version": 3
   },
   "file_extension": ".py",
   "mimetype": "text/x-python",
   "name": "python",
   "nbconvert_exporter": "python",
   "pygments_lexer": "ipython3",
   "version": "3.6.12"
  }
 },
 "nbformat": 4,
 "nbformat_minor": 4
}
